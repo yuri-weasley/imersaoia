{
  "nbformat": 4,
  "nbformat_minor": 0,
  "metadata": {
    "colab": {
      "provenance": [],
      "authorship_tag": "ABX9TyNjKDZ2RqWA+BLbjainY3lV",
      "include_colab_link": true
    },
    "kernelspec": {
      "name": "python3",
      "display_name": "Python 3"
    },
    "language_info": {
      "name": "python"
    }
  },
  "cells": [
    {
      "cell_type": "markdown",
      "metadata": {
        "id": "view-in-github",
        "colab_type": "text"
      },
      "source": [
        "<a href=\"https://colab.research.google.com/github/yuri-weasley/imersaoia/blob/main/Notebooks/live.ipynb\" target=\"_parent\"><img src=\"https://colab.research.google.com/assets/colab-badge.svg\" alt=\"Open In Colab\"/></a>"
      ]
    },
    {
      "cell_type": "markdown",
      "source": [
        "Operações Matemáticas"
      ],
      "metadata": {
        "id": "HWv24FdYmsMT"
      }
    },
    {
      "cell_type": "code",
      "execution_count": 1,
      "metadata": {
        "colab": {
          "base_uri": "https://localhost:8080/"
        },
        "id": "ioSo_fYPeRQk",
        "outputId": "38d44d4e-13f7-43be-a246-5611819e6dc4"
      },
      "outputs": [
        {
          "output_type": "execute_result",
          "data": {
            "text/plain": [
              "9"
            ]
          },
          "metadata": {},
          "execution_count": 1
        }
      ],
      "source": [
        "2 + 7"
      ]
    },
    {
      "cell_type": "code",
      "source": [
        "9 - 5"
      ],
      "metadata": {
        "colab": {
          "base_uri": "https://localhost:8080/"
        },
        "id": "wtybl0ijgGAF",
        "outputId": "3a8aa70a-e585-4f00-ada8-e83d50ce24fb"
      },
      "execution_count": 2,
      "outputs": [
        {
          "output_type": "execute_result",
          "data": {
            "text/plain": [
              "4"
            ]
          },
          "metadata": {},
          "execution_count": 2
        }
      ]
    },
    {
      "cell_type": "code",
      "source": [
        "7 * 5"
      ],
      "metadata": {
        "colab": {
          "base_uri": "https://localhost:8080/"
        },
        "id": "_NccirxygJjG",
        "outputId": "5b8249d0-5592-4ac7-e13e-7c260ffef276"
      },
      "execution_count": 3,
      "outputs": [
        {
          "output_type": "execute_result",
          "data": {
            "text/plain": [
              "35"
            ]
          },
          "metadata": {},
          "execution_count": 3
        }
      ]
    },
    {
      "cell_type": "code",
      "source": [
        "9 / 3"
      ],
      "metadata": {
        "colab": {
          "base_uri": "https://localhost:8080/"
        },
        "id": "HvMlO06dgLs-",
        "outputId": "acfae918-1cee-49dd-a1cd-ef4ede8b2ef1"
      },
      "execution_count": 4,
      "outputs": [
        {
          "output_type": "execute_result",
          "data": {
            "text/plain": [
              "3.0"
            ]
          },
          "metadata": {},
          "execution_count": 4
        }
      ]
    },
    {
      "cell_type": "code",
      "source": [
        "9 / 2"
      ],
      "metadata": {
        "colab": {
          "base_uri": "https://localhost:8080/"
        },
        "id": "dqoDi0m3g-KN",
        "outputId": "e4f9262f-9058-430d-d134-3f7f4e2ed5b8"
      },
      "execution_count": 5,
      "outputs": [
        {
          "output_type": "execute_result",
          "data": {
            "text/plain": [
              "4.5"
            ]
          },
          "metadata": {},
          "execution_count": 5
        }
      ]
    },
    {
      "cell_type": "code",
      "source": [
        "exponencial = 2 ** 3\n",
        "print(exponencial)"
      ],
      "metadata": {
        "colab": {
          "base_uri": "https://localhost:8080/"
        },
        "id": "fHnTa5CbmFwK",
        "outputId": "2849204b-9b3e-415e-b694-0ef2616b2829"
      },
      "execution_count": 22,
      "outputs": [
        {
          "output_type": "stream",
          "name": "stdout",
          "text": [
            "8\n"
          ]
        }
      ]
    },
    {
      "cell_type": "code",
      "source": [
        "primeira_operacao = 2258 + 6354"
      ],
      "metadata": {
        "id": "juPUmfjRhIv6"
      },
      "execution_count": 7,
      "outputs": []
    },
    {
      "cell_type": "code",
      "source": [
        "segunda_operacao = 8 - 5"
      ],
      "metadata": {
        "id": "D-Sd6gMNhcV7"
      },
      "execution_count": 8,
      "outputs": []
    },
    {
      "cell_type": "code",
      "source": [
        "print(primeira_operacao)"
      ],
      "metadata": {
        "colab": {
          "base_uri": "https://localhost:8080/"
        },
        "id": "O67DHAyahj1a",
        "outputId": "277644ad-6d43-466e-cbf4-69a03c4770c0"
      },
      "execution_count": 9,
      "outputs": [
        {
          "output_type": "stream",
          "name": "stdout",
          "text": [
            "8612\n"
          ]
        }
      ]
    },
    {
      "cell_type": "code",
      "source": [
        "print(segunda_operacao)"
      ],
      "metadata": {
        "colab": {
          "base_uri": "https://localhost:8080/"
        },
        "id": "ZR6VjLxLh50T",
        "outputId": "2ed3c93e-d4e8-4499-fdb1-aed892eb82c1"
      },
      "execution_count": 11,
      "outputs": [
        {
          "output_type": "stream",
          "name": "stdout",
          "text": [
            "3\n"
          ]
        }
      ]
    },
    {
      "cell_type": "code",
      "source": [
        "print(primeira_operacao * segunda_operacao)"
      ],
      "metadata": {
        "colab": {
          "base_uri": "https://localhost:8080/"
        },
        "id": "q16zyF1wh9bI",
        "outputId": "28de8338-ec9c-4bf9-c9dc-09c9c9cabc48"
      },
      "execution_count": 12,
      "outputs": [
        {
          "output_type": "stream",
          "name": "stdout",
          "text": [
            "25836\n"
          ]
        }
      ]
    },
    {
      "cell_type": "code",
      "source": [
        "print('Olá, Mundo!')"
      ],
      "metadata": {
        "colab": {
          "base_uri": "https://localhost:8080/"
        },
        "id": "jyPwD2oMiJJ2",
        "outputId": "5dc48524-13bf-4519-a98f-f9954338a720"
      },
      "execution_count": 14,
      "outputs": [
        {
          "output_type": "stream",
          "name": "stdout",
          "text": [
            "Olá, Mundo!\n"
          ]
        }
      ]
    },
    {
      "cell_type": "code",
      "source": [
        "multiplicacao = primeira_operacao * segunda_operacao"
      ],
      "metadata": {
        "id": "u8I8nl9ziqbS"
      },
      "execution_count": 15,
      "outputs": []
    },
    {
      "cell_type": "code",
      "source": [
        "print(multiplicacao)"
      ],
      "metadata": {
        "colab": {
          "base_uri": "https://localhost:8080/"
        },
        "id": "mgJE7JYDkteC",
        "outputId": "843724ba-f79b-408c-aa1c-7f627a4bb77a"
      },
      "execution_count": 16,
      "outputs": [
        {
          "output_type": "stream",
          "name": "stdout",
          "text": [
            "25836\n"
          ]
        }
      ]
    },
    {
      "cell_type": "code",
      "source": [
        "print(\"O resultado da multiplicação é:\", multiplicacao)"
      ],
      "metadata": {
        "colab": {
          "base_uri": "https://localhost:8080/"
        },
        "id": "KksnXWOokyyu",
        "outputId": "cf225df3-365b-49e2-fad1-6e480eeaf388"
      },
      "execution_count": 18,
      "outputs": [
        {
          "output_type": "stream",
          "name": "stdout",
          "text": [
            "O resultado da multiplicação é: 25836\n"
          ]
        }
      ]
    },
    {
      "cell_type": "code",
      "source": [
        "print(f\"O resultado da multiplicação é: {multiplicacao}, que é a multiplicação de {primeira_operacao} e {segunda_operacao}\")"
      ],
      "metadata": {
        "colab": {
          "base_uri": "https://localhost:8080/"
        },
        "id": "J62ky0WnlGu5",
        "outputId": "8c9ef21a-23a7-4c76-ee91-7fc83e1e7739"
      },
      "execution_count": 20,
      "outputs": [
        {
          "output_type": "stream",
          "name": "stdout",
          "text": [
            "O resultado da multiplicação é: 25836, que é a multiplicação de 8612 e 3\n"
          ]
        }
      ]
    },
    {
      "cell_type": "code",
      "source": [
        "nome1 = input(\"Digite seu nome:\")"
      ],
      "metadata": {
        "colab": {
          "base_uri": "https://localhost:8080/"
        },
        "id": "QQ-9sCySmS2r",
        "outputId": "893d2b2c-ad46-4dd8-c601-92ecc08be56e"
      },
      "execution_count": 24,
      "outputs": [
        {
          "name": "stdout",
          "output_type": "stream",
          "text": [
            "Digite seu nome:Yuri\n"
          ]
        }
      ]
    },
    {
      "cell_type": "code",
      "source": [
        "print(nome1)"
      ],
      "metadata": {
        "colab": {
          "base_uri": "https://localhost:8080/"
        },
        "id": "Vt19ON3WnEMl",
        "outputId": "6e3554bb-3230-4ca0-9659-e9bfdbbfb088"
      },
      "execution_count": 25,
      "outputs": [
        {
          "output_type": "stream",
          "name": "stdout",
          "text": [
            "Yuri\n"
          ]
        }
      ]
    },
    {
      "cell_type": "code",
      "source": [
        "nome2 = input(\"Digite seu nome: \")"
      ],
      "metadata": {
        "colab": {
          "base_uri": "https://localhost:8080/"
        },
        "id": "I4LeIaoInHSy",
        "outputId": "f933dd14-abd5-487a-8f69-3a10f211b383"
      },
      "execution_count": 26,
      "outputs": [
        {
          "name": "stdout",
          "output_type": "stream",
          "text": [
            "Digite seu nome: Val\n"
          ]
        }
      ]
    },
    {
      "cell_type": "code",
      "source": [
        "print(f\"Hoje estamos com {nome1} e {nome2} para essa live de Python!\")"
      ],
      "metadata": {
        "colab": {
          "base_uri": "https://localhost:8080/"
        },
        "id": "wABhcsL9nNs0",
        "outputId": "ec9dcf08-dc6d-495f-f85d-4a4461da1bc5"
      },
      "execution_count": 28,
      "outputs": [
        {
          "output_type": "stream",
          "name": "stdout",
          "text": [
            "Hoje estamos com Yuri e Val para essa live de Python!\n"
          ]
        }
      ]
    },
    {
      "cell_type": "code",
      "source": [
        "idade1 = input(\"Digite sua idade: \")"
      ],
      "metadata": {
        "colab": {
          "base_uri": "https://localhost:8080/"
        },
        "id": "rW7NMdPbn264",
        "outputId": "41f737f7-f6b4-49e9-cb14-245077f3255c"
      },
      "execution_count": 39,
      "outputs": [
        {
          "name": "stdout",
          "output_type": "stream",
          "text": [
            "Digite sua idade: 17\n"
          ]
        }
      ]
    },
    {
      "cell_type": "code",
      "source": [
        "if int(idade1) >= 18:\n",
        "  print(\"Você é maior de idade.\")\n",
        "  print(\"Você pode entrar.\")\n",
        "else:\n",
        "  print(\"Você é menor de idade.\")\n",
        "  print(\"Você não pode entrar.\")"
      ],
      "metadata": {
        "colab": {
          "base_uri": "https://localhost:8080/"
        },
        "id": "pB0EMx3ZoSFi",
        "outputId": "ed44a034-5e13-4789-89fe-653246a6d629"
      },
      "execution_count": 40,
      "outputs": [
        {
          "output_type": "stream",
          "name": "stdout",
          "text": [
            "Vcoê é menor de idade.\n",
            "Você não pode entrar.\n"
          ]
        }
      ]
    },
    {
      "cell_type": "code",
      "source": [
        "def verificar_idade(idade):\n",
        "  if int(idade) >= 18:\n",
        "    print(\"Você é maior de idade.\")\n",
        "    print(\"Você pode entrar.\")\n",
        "  else:\n",
        "    print(\"Você é menor de idade.\")\n",
        "    print(\"Você não pode entrar.\")"
      ],
      "metadata": {
        "id": "cl_UVlw4qAy1"
      },
      "execution_count": 46,
      "outputs": []
    },
    {
      "cell_type": "code",
      "source": [
        "verificar_idade(19)"
      ],
      "metadata": {
        "colab": {
          "base_uri": "https://localhost:8080/"
        },
        "id": "HPTRix6ZqoJE",
        "outputId": "9756ca44-43ca-4cce-9823-f71aabcc5d7f"
      },
      "execution_count": 47,
      "outputs": [
        {
          "output_type": "stream",
          "name": "stdout",
          "text": [
            "Você é maior de idade.\n",
            "Você pode entrar.\n"
          ]
        }
      ]
    },
    {
      "cell_type": "code",
      "source": [
        "contador = 2\n",
        "\n",
        "while contador < 5:\n",
        "  print(f\"Contagem: {contador}\")\n",
        "  contador = contador + 1\n",
        "\n",
        "print(\"Fim da contagem\")"
      ],
      "metadata": {
        "colab": {
          "base_uri": "https://localhost:8080/"
        },
        "id": "9YIB_LSNriYS",
        "outputId": "522c247f-922c-42b6-d495-cb79821a9ea0"
      },
      "execution_count": 53,
      "outputs": [
        {
          "output_type": "stream",
          "name": "stdout",
          "text": [
            "Contagem: 2\n",
            "Contagem: 3\n",
            "Contagem: 4\n",
            "Fim da contagem\n"
          ]
        }
      ]
    },
    {
      "cell_type": "code",
      "source": [
        "modelos = [\"2.0 flash\", \"2.5 pro\", \"2.5 flash\"]"
      ],
      "metadata": {
        "id": "T11fgLgrtizt"
      },
      "execution_count": 54,
      "outputs": []
    },
    {
      "cell_type": "code",
      "source": [
        "modelos"
      ],
      "metadata": {
        "colab": {
          "base_uri": "https://localhost:8080/"
        },
        "id": "deRlEu3wt7rF",
        "outputId": "181c0cc5-4066-479d-c61d-49ddd2a9f206"
      },
      "execution_count": 55,
      "outputs": [
        {
          "output_type": "execute_result",
          "data": {
            "text/plain": [
              "['2.0 flash', '2.5 pro', '2.5 flash']"
            ]
          },
          "metadata": {},
          "execution_count": 55
        }
      ]
    },
    {
      "cell_type": "code",
      "source": [
        "for modelo in modelos:\n",
        "  print(modelo)"
      ],
      "metadata": {
        "colab": {
          "base_uri": "https://localhost:8080/"
        },
        "id": "IQaXPfb5t-uw",
        "outputId": "55e33207-b066-4dd1-8557-ebbb0c7c3869"
      },
      "execution_count": 56,
      "outputs": [
        {
          "output_type": "stream",
          "name": "stdout",
          "text": [
            "2.0 flash\n",
            "2.5 pro\n",
            "2.5 flash\n"
          ]
        }
      ]
    }
  ]
}